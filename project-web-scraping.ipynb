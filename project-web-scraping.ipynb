{
 "cells": [
  {
   "cell_type": "markdown",
   "metadata": {},
   "source": [
    "#  Web Scraping Project -  Flipkart Apple Mobiles data\n",
    "\n",
    "It is the path toward get-together information from the Internet. In fact, even copy sticking the sections of your primary tune is a kind of web scratching! Regardless, the words “web scratching” by and large imply a connection that incorporates computerization. A couple of destinations could do without it when customized scrubbers collect their data, while others would not worry.\n",
    "\n",
    "Expecting you are scratching a page deliberately for informative items, you are presumably not going to have any issues. Considering everything, it is a keen idea to do some assessment isolated and guarantee that you’re not ignoring any Terms of Service before you start a gigantic degree project. To get comfortable with the legal pieces of web scratching, take a gander at Legal Perspectives on Scraping Data from The Modern Web."
   ]
  },
  {
   "cell_type": "markdown",
   "metadata": {},
   "source": [
    "> ## We will be scraping Flipkart "
   ]
  },
  {
   "cell_type": "markdown",
   "metadata": {},
   "source": [
    "![](https://i.imgur.com/QcDHnjr.png)"
   ]
  },
  {
   "cell_type": "markdown",
   "metadata": {},
   "source": [
    "**Flipkart** is one such eCommerce company that promotes online sales in India. It is not only for accessories, but for a wide range of other daily use items as well, that Flipkart remains as the leading choice of online shoppers. Flipkart, the most prominent eCommerce website in India and is empowering tons of Indian businesses to venture into the competitive online shopping industry. This multi-vendor website serves as the platform for vendors to display their product to the website’s visitors. It was initiated in 2007 and recently achieved a similarweb ranking of 133 globally and 9th  amongst the top Indian websites. Flipkart is the first eCommerce website in India that has reached the $1 billion mark.\n",
    "\n",
    "We will be scraping inside the **Mobile section** and specifically try to get all the information about **Apple Mobiles**."
   ]
  },
  {
   "cell_type": "markdown",
   "metadata": {},
   "source": [
    "Here is an outline of all the steps we will follow:\n",
    "\n",
    "1. Download the webpage using \"request library\n",
    "2. Parse the HTML source code using beautiful soup\n",
    "3. Extract items description, rating, prices, review and image Urls from 8 pages \n",
    "4. Compile and extracted information into Python lists and dictionaries\n",
    "5. Extract and combine data from multiple pages\n",
    "6. Save the extracted information to a CSV file.\n",
    "\n",
    "\n",
    "By the end of the project, we will created a CSV file in the similar format:<br> \n",
    "- Each record is located on a separate line, delimited by a line break (CRLF).  \n",
    "For example:<br>\n",
    "aaa,bbb,ccc CRLF <br>\n",
    "zzz,yyy,xxx CRLF\n"
   ]
  },
  {
   "cell_type": "markdown",
   "metadata": {},
   "source": [
    "First of all we will **import jovian** and keep on executing **jovian.commit** to save our notebook."
   ]
  },
  {
   "cell_type": "code",
   "execution_count": 1,
   "metadata": {},
   "outputs": [],
   "source": [
    "!pip install jovian --upgrade --quiet"
   ]
  },
  {
   "cell_type": "code",
   "execution_count": 2,
   "metadata": {},
   "outputs": [],
   "source": [
    "import jovian"
   ]
  },
  {
   "cell_type": "code",
   "execution_count": 3,
   "metadata": {},
   "outputs": [
    {
     "data": {
      "application/javascript": [
       "window.require && require([\"base/js/namespace\"],function(Jupyter){Jupyter.notebook.save_checkpoint()})"
      ],
      "text/plain": [
       "<IPython.core.display.Javascript object>"
      ]
     },
     "metadata": {},
     "output_type": "display_data"
    },
    {
     "name": "stdout",
     "output_type": "stream",
     "text": [
      "[jovian] Updating notebook \"yashchamp96/project-web-scraping\" on https://jovian.ai\u001b[0m\n",
      "[jovian] Committed successfully! https://jovian.ai/yashchamp96/project-web-scraping\u001b[0m\n"
     ]
    },
    {
     "data": {
      "text/plain": [
       "'https://jovian.ai/yashchamp96/project-web-scraping'"
      ]
     },
     "execution_count": 3,
     "metadata": {},
     "output_type": "execute_result"
    }
   ],
   "source": [
    "# Execute this to save new versions of the notebook\n",
    "jovian.commit(project=\"project-web-scraping\")"
   ]
  },
  {
   "cell_type": "markdown",
   "metadata": {},
   "source": [
    "Use the \"Run\" button to execute the code."
   ]
  },
  {
   "cell_type": "markdown",
   "metadata": {},
   "source": [
    "#### Now it's time to import all the libraries we are going to use in our project.\n",
    "- **import requests**- *We are going to use this library to download our desired webpage.*<br>\n",
    "- **import bs4**- *It will allows us to pull data out of HTML documents.*<br>\n",
    "- **import pandas**- *Pandas library is use to create the data frame of our requirements from the webpage.*"
   ]
  },
  {
   "cell_type": "code",
   "execution_count": 4,
   "metadata": {},
   "outputs": [],
   "source": [
    "import requests\n",
    "import pandas as pd\n",
    "from bs4 import BeautifulSoup"
   ]
  },
  {
   "cell_type": "code",
   "execution_count": 5,
   "metadata": {},
   "outputs": [],
   "source": [
    "url = 'https://www.flipkart.com/mobiles/pr?sid=tyy%2C4io&otracker=categorytree&p%5B%5D=facets.brand%255B%255D%3DAPPLE'"
   ]
  },
  {
   "cell_type": "markdown",
   "metadata": {},
   "source": [
    "Let's download our url in a variable *response* using the *requests* library."
   ]
  },
  {
   "cell_type": "code",
   "execution_count": 6,
   "metadata": {},
   "outputs": [],
   "source": [
    "response = requests.get(url)"
   ]
  },
  {
   "cell_type": "markdown",
   "metadata": {},
   "source": [
    "- Now we will check the status code of our url which is saved in a variable.<br>\n",
    "- If the *request* was successful it will provide the value in the *range(200,299)* in the output"
   ]
  },
  {
   "cell_type": "code",
   "execution_count": 7,
   "metadata": {},
   "outputs": [
    {
     "data": {
      "text/plain": [
       "200"
      ]
     },
     "execution_count": 7,
     "metadata": {},
     "output_type": "execute_result"
    }
   ],
   "source": [
    "response.status_code"
   ]
  },
  {
   "cell_type": "markdown",
   "metadata": {},
   "source": [
    "- We can check the text of our downloaded url from *request* method by **.text** function.<br>\n",
    "- Here we are going to check the length of the all the contents in the url."
   ]
  },
  {
   "cell_type": "code",
   "execution_count": 8,
   "metadata": {},
   "outputs": [
    {
     "data": {
      "text/plain": [
       "497490"
      ]
     },
     "execution_count": 8,
     "metadata": {},
     "output_type": "execute_result"
    }
   ],
   "source": [
    "contents = response.text\n",
    "len(contents)"
   ]
  },
  {
   "cell_type": "markdown",
   "metadata": {},
   "source": [
    "- We will check the first *1000* characters of the webpage."
   ]
  },
  {
   "cell_type": "code",
   "execution_count": 9,
   "metadata": {},
   "outputs": [
    {
     "data": {
      "text/plain": [
       "'<!doctype html><html lang=\"en\"><head><link href=\"https://rukminim1.flixcart.com\" rel=\"preconnect\"/><link rel=\"stylesheet\" href=\"//static-assets-web.flixcart.com/www/linchpin/fk-cp-zion/css/app.chunk.2bdc3d.css\"/><meta http-equiv=\"Content-type\" content=\"text/html; charset=utf-8\"/><meta http-equiv=\"X-UA-Compatible\" content=\"IE=Edge\"/><meta property=\"fb:page_id\" content=\"102988293558\"/><meta property=\"fb:admins\" content=\"658873552,624500995,100000233612389\"/><meta name=\"robots\" content=\"noodp\"/><link rel=\"shortcut icon\" href=\"https://static-assets-web.flixcart.com/www/promos/new/20150528-140547-favicon-retina.ico\"/><link type=\"application/opensearchdescription+xml\" rel=\"search\" href=\"/osdd.xml?v=2\"/><meta property=\"og:type\" content=\"website\"/><meta name=\"og_site_name\" property=\"og:site_name\" content=\"Flipkart.com\"/><link rel=\"apple-touch-icon\" sizes=\"57x57\" href=\"/apple-touch-icon-57x57.png\"/><link rel=\"apple-touch-icon\" sizes=\"72x72\" href=\"/apple-touch-icon-72x72.png\"/><link rel=\"apple-t'"
      ]
     },
     "execution_count": 9,
     "metadata": {},
     "output_type": "execute_result"
    }
   ],
   "source": [
    "contents [:1000]"
   ]
  },
  {
   "cell_type": "markdown",
   "metadata": {},
   "source": [
    "Let's save all the source code of our desired webpage in an **.html** extension."
   ]
  },
  {
   "cell_type": "code",
   "execution_count": 10,
   "metadata": {},
   "outputs": [],
   "source": [
    "with open('flipkart.html', 'w', encoding=\"utf-8\") as file:\n",
    "    file.write(contents)"
   ]
  },
  {
   "cell_type": "code",
   "execution_count": 11,
   "metadata": {},
   "outputs": [],
   "source": [
    "with open('flipkart.html', 'r',encoding=\"utf-8\") as f:\n",
    "    source = f.read()"
   ]
  },
  {
   "cell_type": "markdown",
   "metadata": {},
   "source": [
    "- We can *read* and *write* our source code using the above *functions*.<br>\n",
    "- Above we are using (encoding=\"utf-8\") is used to *encode* all *1,112,064* valid character code points which might be available in our source code."
   ]
  },
  {
   "cell_type": "code",
   "execution_count": 12,
   "metadata": {},
   "outputs": [
    {
     "data": {
      "text/plain": [
       "'<!doctype html><html lang=\"en\"><head><link href=\"https://rukminim1.flixcart.com\" rel=\"preconnect\"/><link rel=\"stylesheet\" href=\"//static-assets-web.flixcart.com/www/linchpin/fk-cp-zion/css/app.chunk.2bdc3d.css\"/><meta http-equiv=\"Content-type\" content=\"text/html; charset=utf-8\"/><meta http-equiv=\"X-UA-Compatible\" content=\"IE=Edge\"/><meta property=\"fb:page_id\" content=\"102988293558\"/><meta property=\"fb:admins\" content=\"658873552,624500995,100000233612389\"/><meta name=\"robots\" content=\"noodp\"/><link rel=\"shortcut icon\" href=\"https://static-assets-web.flixcart.com/www/promos/new/20150528-140547-favicon-retina.ico\"/><link type=\"application/opensearchdescription+xml\" rel=\"search\" href=\"/osdd.xml?v=2\"/><meta property=\"og:type\" content=\"website\"/><meta name=\"og_site_name\" property=\"og:site_name\" content=\"Flipkart.com\"/><link rel=\"apple-touch-icon\" sizes=\"57x57\" href=\"/apple-touch-icon-57x57.png\"/><link rel=\"apple-touch-icon\" sizes=\"72x72\" href=\"/apple-touch-icon-72x72.png\"/><link rel=\"apple-t'"
      ]
     },
     "execution_count": 12,
     "metadata": {},
     "output_type": "execute_result"
    }
   ],
   "source": [
    "source[:1000]"
   ]
  },
  {
   "cell_type": "markdown",
   "metadata": {},
   "source": [
    "> ## Extracting information using Beautiful Soup\n",
    "\n",
    "- To extract information from our HTML source code of the webpage we will be using [Beautiful Soup](https://www.crummy.com/software/BeautifulSoup/bs4/doc/) library."
   ]
  },
  {
   "cell_type": "code",
   "execution_count": 13,
   "metadata": {},
   "outputs": [],
   "source": [
    "doc = BeautifulSoup(source, 'html.parser') "
   ]
  },
  {
   "cell_type": "markdown",
   "metadata": {},
   "source": [
    "- We can check the **type** of our extracted information."
   ]
  },
  {
   "cell_type": "code",
   "execution_count": 14,
   "metadata": {},
   "outputs": [
    {
     "data": {
      "text/plain": [
       "bs4.BeautifulSoup"
      ]
     },
     "execution_count": 14,
     "metadata": {},
     "output_type": "execute_result"
    }
   ],
   "source": [
    "type(doc)"
   ]
  },
  {
   "cell_type": "markdown",
   "metadata": {},
   "source": [
    "- Now we will check the **title tag** of our webpage"
   ]
  },
  {
   "cell_type": "code",
   "execution_count": 15,
   "metadata": {},
   "outputs": [
    {
     "data": {
      "text/plain": [
       "<title>Mobile Price List | Compare Mobiles on Buy Online @ Flipkart</title>"
      ]
     },
     "execution_count": 15,
     "metadata": {},
     "output_type": "execute_result"
    }
   ],
   "source": [
    "title = doc.title\n",
    "title"
   ]
  },
  {
   "cell_type": "markdown",
   "metadata": {},
   "source": [
    "- To get the text inside that tag we will use **.text**"
   ]
  },
  {
   "cell_type": "code",
   "execution_count": 16,
   "metadata": {},
   "outputs": [
    {
     "data": {
      "text/plain": [
       "'Mobile Price List | Compare Mobiles on Buy Online @ Flipkart'"
      ]
     },
     "execution_count": 16,
     "metadata": {},
     "output_type": "execute_result"
    }
   ],
   "source": [
    "title.text"
   ]
  },
  {
   "cell_type": "markdown",
   "metadata": {},
   "source": [
    "- Finding the **html tag** present in our webpage, we will use **.html** and by **len()** function we will see how many **html tags** are present."
   ]
  },
  {
   "cell_type": "code",
   "execution_count": 17,
   "metadata": {},
   "outputs": [
    {
     "data": {
      "text/plain": [
       "2"
      ]
     },
     "execution_count": 17,
     "metadata": {},
     "output_type": "execute_result"
    }
   ],
   "source": [
    "html_tag = doc.html\n",
    "len(html_tag)"
   ]
  },
  {
   "cell_type": "markdown",
   "metadata": {},
   "source": [
    "- **.a** extension is used to find the first **a tag** from our source code."
   ]
  },
  {
   "cell_type": "code",
   "execution_count": 18,
   "metadata": {},
   "outputs": [
    {
     "data": {
      "text/plain": [
       "<a href=\"/\"><img alt=\"Flipkart\" class=\"_2xm1JU\" src=\"//static-assets-web.flixcart.com/www/linchpin/fk-cp-zion/img/flipkart-plus_8d85f4.png\" title=\"Flipkart\" width=\"75\"/></a>"
      ]
     },
     "execution_count": 18,
     "metadata": {},
     "output_type": "execute_result"
    }
   ],
   "source": [
    "first = doc.a\n",
    "first"
   ]
  },
  {
   "cell_type": "markdown",
   "metadata": {},
   "source": [
    "As we can see above there are **href, img, src and title tag** are present inside **a tag**. "
   ]
  },
  {
   "cell_type": "markdown",
   "metadata": {},
   "source": [
    "First **img** tag is"
   ]
  },
  {
   "cell_type": "code",
   "execution_count": 19,
   "metadata": {},
   "outputs": [
    {
     "data": {
      "text/plain": [
       "<img alt=\"Flipkart\" class=\"_2xm1JU\" src=\"//static-assets-web.flixcart.com/www/linchpin/fk-cp-zion/img/flipkart-plus_8d85f4.png\" title=\"Flipkart\" width=\"75\"/>"
      ]
     },
     "execution_count": 19,
     "metadata": {},
     "output_type": "execute_result"
    }
   ],
   "source": [
    "doc.img"
   ]
  },
  {
   "cell_type": "markdown",
   "metadata": {},
   "source": [
    "First **p**  tag"
   ]
  },
  {
   "cell_type": "code",
   "execution_count": 20,
   "metadata": {},
   "outputs": [
    {
     "data": {
      "text/plain": [
       "<p>Flipkart Internet Private Limited, </p>"
      ]
     },
     "execution_count": 20,
     "metadata": {},
     "output_type": "execute_result"
    }
   ],
   "source": [
    "doc.p"
   ]
  },
  {
   "cell_type": "markdown",
   "metadata": {},
   "source": [
    "Now we are going use **find_all** for getting all the same kind of tags present in our source code."
   ]
  },
  {
   "cell_type": "code",
   "execution_count": 21,
   "metadata": {},
   "outputs": [],
   "source": [
    "all_link_tags = doc.find_all('a')"
   ]
  },
  {
   "cell_type": "code",
   "execution_count": 22,
   "metadata": {},
   "outputs": [
    {
     "data": {
      "text/plain": [
       "71"
      ]
     },
     "execution_count": 22,
     "metadata": {},
     "output_type": "execute_result"
    }
   ],
   "source": [
    "len(all_link_tags)"
   ]
  },
  {
   "cell_type": "code",
   "execution_count": 23,
   "metadata": {},
   "outputs": [
    {
     "data": {
      "text/plain": [
       "[<a href=\"/\"><img alt=\"Flipkart\" class=\"_2xm1JU\" src=\"//static-assets-web.flixcart.com/www/linchpin/fk-cp-zion/img/flipkart-plus_8d85f4.png\" title=\"Flipkart\" width=\"75\"/></a>,\n",
       " <a class=\"_21ljIi\" href=\"/plus\">Explore<!-- --> <span class=\"_2FVHGh\">Plus</span><img src=\"//static-assets-web.flixcart.com/www/linchpin/fk-cp-zion/img/plus_aef861.png\" width=\"10\"/></a>,\n",
       " <a class=\"_1_3w1N\" href=\"/account/login?ret=/mobiles/pr%3Fsid%3Dtyy%252C4io%26otracker%3Dcategorytree%26p%255B%255D%3Dfacets.brand%25255B%25255D%253DAPPLE\">Login</a>]"
      ]
     },
     "execution_count": 23,
     "metadata": {},
     "output_type": "execute_result"
    }
   ],
   "source": [
    "all_link_tags[:3]"
   ]
  },
  {
   "cell_type": "markdown",
   "metadata": {},
   "source": [
    "There are near about **70** a tags present in our source code and we have seen **first 3** above."
   ]
  },
  {
   "cell_type": "markdown",
   "metadata": {},
   "source": [
    "> Same we will do for **img tag**"
   ]
  },
  {
   "cell_type": "code",
   "execution_count": 24,
   "metadata": {},
   "outputs": [],
   "source": [
    "image_tag = doc.find_all('img')"
   ]
  },
  {
   "cell_type": "code",
   "execution_count": 25,
   "metadata": {},
   "outputs": [
    {
     "data": {
      "text/plain": [
       "81"
      ]
     },
     "execution_count": 25,
     "metadata": {},
     "output_type": "execute_result"
    }
   ],
   "source": [
    "len(image_tag)"
   ]
  },
  {
   "cell_type": "code",
   "execution_count": 26,
   "metadata": {},
   "outputs": [
    {
     "data": {
      "text/plain": [
       "[<img alt=\"Flipkart\" class=\"_2xm1JU\" src=\"//static-assets-web.flixcart.com/www/linchpin/fk-cp-zion/img/flipkart-plus_8d85f4.png\" title=\"Flipkart\" width=\"75\"/>,\n",
       " <img src=\"//static-assets-web.flixcart.com/www/linchpin/fk-cp-zion/img/plus_aef861.png\" width=\"10\"/>,\n",
       " <img class=\"_3U-Vxu\" height=\"21\" src=\"//static-assets-web.flixcart.com/www/linchpin/fk-cp-zion/img/fa_62673a.png\"/>]"
      ]
     },
     "execution_count": 26,
     "metadata": {},
     "output_type": "execute_result"
    }
   ],
   "source": [
    "image_tag[:3]"
   ]
  },
  {
   "cell_type": "markdown",
   "metadata": {},
   "source": [
    "### To find through class\n",
    "![](https://i.imgur.com/5q8OAWs.png)\n",
    "* We will first find through **class_='_4rR01T'** which will give us information about all the **mobile names**."
   ]
  },
  {
   "cell_type": "code",
   "execution_count": 27,
   "metadata": {},
   "outputs": [],
   "source": [
    "matching_tags = doc.find_all(class_='_4rR01T')"
   ]
  },
  {
   "cell_type": "code",
   "execution_count": 28,
   "metadata": {},
   "outputs": [
    {
     "data": {
      "text/plain": [
       "24"
      ]
     },
     "execution_count": 28,
     "metadata": {},
     "output_type": "execute_result"
    }
   ],
   "source": [
    "len(matching_tags)"
   ]
  },
  {
   "cell_type": "code",
   "execution_count": 29,
   "metadata": {},
   "outputs": [
    {
     "data": {
      "text/plain": [
       "[<div class=\"_4rR01T\">APPLE iPhone SE (Black, 64 GB)</div>,\n",
       " <div class=\"_4rR01T\">APPLE iPhone SE (White, 64 GB)</div>,\n",
       " <div class=\"_4rR01T\">APPLE iPhone SE (Red, 64 GB)</div>]"
      ]
     },
     "execution_count": 29,
     "metadata": {},
     "output_type": "execute_result"
    }
   ],
   "source": [
    "matching_tags[:3]"
   ]
  },
  {
   "cell_type": "markdown",
   "metadata": {},
   "source": [
    "As we can see there are **24** items present in our desired webpage and we will get the **text** out of it to add all of them in a list."
   ]
  },
  {
   "cell_type": "code",
   "execution_count": 30,
   "metadata": {},
   "outputs": [
    {
     "data": {
      "text/plain": [
       "[{'Mobile Phone': 'APPLE iPhone SE (Black, 64 GB)'},\n",
       " {'Mobile Phone': 'APPLE iPhone SE (White, 64 GB)'},\n",
       " {'Mobile Phone': 'APPLE iPhone SE (Red, 64 GB)'},\n",
       " {'Mobile Phone': 'APPLE iPhone 12 (Blue, 128 GB)'},\n",
       " {'Mobile Phone': 'APPLE iPhone 12 (Black, 64 GB)'}]"
      ]
     },
     "execution_count": 30,
     "metadata": {},
     "output_type": "execute_result"
    }
   ],
   "source": [
    "names = []\n",
    "\n",
    "for tag in matching_tags:\n",
    "    names.append({ 'Mobile Phone': tag.text.strip()}) #using .append to add every name in the list\n",
    "    \n",
    "names[:5]"
   ]
  },
  {
   "cell_type": "markdown",
   "metadata": {},
   "source": [
    "* Using **class_='_396cs4 _3exPp9'** to get all the information about **image link** and **mobile phone names**.\n",
    "![](https://i.imgur.com/48U4zDd.png)"
   ]
  },
  {
   "cell_type": "code",
   "execution_count": 31,
   "metadata": {},
   "outputs": [],
   "source": [
    "image_tag = doc.find_all(class_='_396cs4 _3exPp9')"
   ]
  },
  {
   "cell_type": "code",
   "execution_count": 32,
   "metadata": {},
   "outputs": [
    {
     "data": {
      "text/plain": [
       "24"
      ]
     },
     "execution_count": 32,
     "metadata": {},
     "output_type": "execute_result"
    }
   ],
   "source": [
    "len(image_tag)"
   ]
  },
  {
   "cell_type": "code",
   "execution_count": 33,
   "metadata": {},
   "outputs": [
    {
     "data": {
      "text/plain": [
       "[<img alt=\"APPLE iPhone SE (Black, 64 GB)\" class=\"_396cs4 _3exPp9\" src=\"https://rukminim1.flixcart.com/image/312/312/k9loccw0/mobile/p/z/q/apple-iphone-se-mxd02hn-a-original-imafrcpjfehbbqgb.jpeg?q=70\"/>,\n",
       " <img alt=\"APPLE iPhone SE (White, 64 GB)\" class=\"_396cs4 _3exPp9\" src=\"https://rukminim1.flixcart.com/image/312/312/k9loccw0/mobile/6/b/z/apple-iphone-se-mxd12hn-a-original-imafrcqfsuzwa3dz.jpeg?q=70\"/>,\n",
       " <img alt=\"APPLE iPhone SE (Red, 64 GB)\" class=\"_396cs4 _3exPp9\" src=\"https://rukminim1.flixcart.com/image/312/312/k9loccw0/mobile/6/8/g/apple-iphone-se-mxvv2hn-a-original-imafrcqmfxhcrpsb.jpeg?q=70\"/>]"
      ]
     },
     "execution_count": 33,
     "metadata": {},
     "output_type": "execute_result"
    }
   ],
   "source": [
    "image_tag[:3]"
   ]
  },
  {
   "cell_type": "code",
   "execution_count": 34,
   "metadata": {},
   "outputs": [
    {
     "data": {
      "text/plain": [
       "[{'Phone name': 'APPLE iPhone SE (Black, 64 GB)',\n",
       "  'url': 'https://rukminim1.flixcart.com/image/312/312/k9loccw0/mobile/p/z/q/apple-iphone-se-mxd02hn-a-original-imafrcpjfehbbqgb.jpeg?q=70'},\n",
       " {'Phone name': 'APPLE iPhone SE (White, 64 GB)',\n",
       "  'url': 'https://rukminim1.flixcart.com/image/312/312/k9loccw0/mobile/6/b/z/apple-iphone-se-mxd12hn-a-original-imafrcqfsuzwa3dz.jpeg?q=70'},\n",
       " {'Phone name': 'APPLE iPhone SE (Red, 64 GB)',\n",
       "  'url': 'https://rukminim1.flixcart.com/image/312/312/k9loccw0/mobile/6/8/g/apple-iphone-se-mxvv2hn-a-original-imafrcqmfxhcrpsb.jpeg?q=70'}]"
      ]
     },
     "execution_count": 34,
     "metadata": {},
     "output_type": "execute_result"
    }
   ],
   "source": [
    "image_link_info = []\n",
    "for link in image_tag:\n",
    "    image_link_info.append({\n",
    "        'Phone name': link['alt'],\n",
    "        'url' : link['src']\n",
    "    })\n",
    "image_link_info[:3]    "
   ]
  },
  {
   "cell_type": "markdown",
   "metadata": {},
   "source": [
    "* To get the information about description of all the phones we will use **class_='_1xgFaf'**"
   ]
  },
  {
   "cell_type": "markdown",
   "metadata": {},
   "source": [
    "![](https://i.imgur.com/H8Rn0Wx.png)"
   ]
  },
  {
   "cell_type": "code",
   "execution_count": 35,
   "metadata": {},
   "outputs": [
    {
     "data": {
      "text/plain": [
       "24"
      ]
     },
     "execution_count": 35,
     "metadata": {},
     "output_type": "execute_result"
    }
   ],
   "source": [
    "mobile_description = doc.find_all('ul', class_='_1xgFaf')\n",
    "len(mobile_description)"
   ]
  },
  {
   "cell_type": "code",
   "execution_count": 36,
   "metadata": {},
   "outputs": [
    {
     "data": {
      "text/plain": [
       "[{'Description': '64 GB ROM11.94 cm (4.7 inch) Retina HD Display12MP Rear Camera | 7MP Front CameraA13 Bionic Chip with 3rd Gen Neural Engine ProcessorWater and Dust Resistant (1 meter for Upto 30 minutes, IP67)Fast Charge CapableWireless charging (Works with Qi Chargers | Qi Chargers are Sold SeparatelyBrand Warranty of 1 Year'},\n",
       " {'Description': '64 GB ROM11.94 cm (4.7 inch) Retina HD Display12MP Rear Camera | 7MP Front CameraA13 Bionic Chip with 3rd Gen Neural Engine ProcessorWater and Dust Resistant (1 meter for Upto 30 minutes, IP67)Fast Charge CapableWireless charging (Works with Qi Chargers | Qi Chargers are Sold SeparatelyBrand Warranty of 1 Year'},\n",
       " {'Description': '64 GB ROM11.94 cm (4.7 inch) Retina HD Display12MP Rear Camera | 7MP Front CameraA13 Bionic Chip with 3rd Gen Neural Engine ProcessorWater and Dust Resistant (1 meter for Upto 30 minutes, IP67)Fast Charge CapableWireless charging (Works with Qi Chargers | Qi Chargers are Sold SeparatelyBrand Warranty of 1 Year'}]"
      ]
     },
     "execution_count": 36,
     "metadata": {},
     "output_type": "execute_result"
    }
   ],
   "source": [
    "mobile_info_link=[]\n",
    "for i in mobile_description:\n",
    "    mobile_info_link.append({'Description': i.text.strip()})\n",
    "mobile_info_link[:3]    "
   ]
  },
  {
   "cell_type": "markdown",
   "metadata": {},
   "source": [
    "## Now we will make helper functions for all the information required."
   ]
  },
  {
   "cell_type": "markdown",
   "metadata": {},
   "source": [
    ">  #### 1- For image link information"
   ]
  },
  {
   "cell_type": "code",
   "execution_count": 37,
   "metadata": {},
   "outputs": [],
   "source": [
    "def get_image_link(doc):\n",
    "    image_tag = doc.find_all(class_='_396cs4 _3exPp9')\n",
    "    image_link_info = []\n",
    "    for link in image_tag:\n",
    "        image_link_info.append({'Phone name': link['alt'],\n",
    "                            'url' : link['src']\n",
    "                           })\n",
    "    return image_link_info    "
   ]
  },
  {
   "cell_type": "markdown",
   "metadata": {},
   "source": [
    "> #### 2- For mobile phone names"
   ]
  },
  {
   "cell_type": "code",
   "execution_count": 38,
   "metadata": {},
   "outputs": [],
   "source": [
    "def mobile_name(doc):\n",
    "    prase = doc.find_all(class_='_4rR01T')\n",
    "    names = []\n",
    "    for tag in prase:\n",
    "        names.append({ 'Mobile Name': tag.text.strip()})\n",
    "    return names"
   ]
  },
  {
   "cell_type": "markdown",
   "metadata": {},
   "source": [
    "> #### 3- For mobile description"
   ]
  },
  {
   "cell_type": "code",
   "execution_count": 39,
   "metadata": {},
   "outputs": [],
   "source": [
    "def mobile_description(doc):\n",
    "    mobile_description = doc.find_all('ul', class_='_1xgFaf')\n",
    "    mobile_info_link=[]\n",
    "    for i in mobile_description:\n",
    "        mobile_info_link.append({'Description': i.text.strip()})\n",
    "    return mobile_info_link    "
   ]
  },
  {
   "cell_type": "markdown",
   "metadata": {},
   "source": [
    "> #### 4- For prices of all the phones"
   ]
  },
  {
   "cell_type": "code",
   "execution_count": 40,
   "metadata": {
    "code_folding": [
     3
    ]
   },
   "outputs": [],
   "source": [
    "def prices(doc):\n",
    "    price = doc.find_all(class_='_30jeq3 _1_WHN1')\n",
    "    price_link = []\n",
    "    for i in price:\n",
    "        price_link.append({'Prices':i.text.strip()})\n",
    "    return price_link    "
   ]
  },
  {
   "cell_type": "markdown",
   "metadata": {},
   "source": [
    "> #### 5- For the amount of discount available"
   ]
  },
  {
   "cell_type": "code",
   "execution_count": 41,
   "metadata": {},
   "outputs": [],
   "source": [
    "def percentage_off(doc):\n",
    "    off = doc.find_all('div',class_='_3Ay6Sb')\n",
    "    off_link =[]\n",
    "    for i in off:\n",
    "        off_link.append({'Percentage off':i.text.strip()})\n",
    "    return off_link    "
   ]
  },
  {
   "cell_type": "markdown",
   "metadata": {},
   "source": [
    "> #### 6- For the overall rating of the mobile phones"
   ]
  },
  {
   "cell_type": "code",
   "execution_count": 42,
   "metadata": {},
   "outputs": [],
   "source": [
    "def rating(doc):\n",
    "    ratings = doc.find_all('div', class_='_3LWZlK')\n",
    "    all_ratings = []\n",
    "    for i in ratings:\n",
    "        all_ratings.append({'Ratings': i.text.strip()})\n",
    "    return all_ratings"
   ]
  },
  {
   "cell_type": "markdown",
   "metadata": {},
   "source": [
    "## Creating a helper function to add the information in .csv format"
   ]
  },
  {
   "cell_type": "code",
   "execution_count": 43,
   "metadata": {
    "code_folding": []
   },
   "outputs": [],
   "source": [
    "def in_csv(items, path):\n",
    "    # Open the file in write mode\n",
    "    with open(path, 'w') as f:\n",
    "        # Return if there's nothing to write\n",
    "        if len(items) == 0:\n",
    "            return\n",
    "        \n",
    "        # Write the headers in the first line\n",
    "        headers = list(items[0].keys())\n",
    "        f.write(','.join(headers) + '\\n')\n",
    "        \n",
    "        # Write one item per line\n",
    "        for item in items:\n",
    "            values = []\n",
    "            for header in headers:\n",
    "                values.append(str(item.get(header, \"\")))\n",
    "            f.write(','.join(values) + \"\\n\")"
   ]
  },
  {
   "cell_type": "markdown",
   "metadata": {},
   "source": [
    "### Creating csv files\n",
    "We are creating different **csv** files for all the information using  our **in_csv** function.\n",
    "- Mobile image links\n",
    "- Mobile description\n",
    "- Mobile names\n",
    "- Mobile prices\n",
    "- Mobile percentage off\n",
    "- Mobile ratings \n"
   ]
  },
  {
   "cell_type": "code",
   "execution_count": 44,
   "metadata": {},
   "outputs": [],
   "source": [
    "link = get_image_link(doc)\n",
    "in_csv(link,'image link.csv')"
   ]
  },
  {
   "cell_type": "code",
   "execution_count": 45,
   "metadata": {},
   "outputs": [],
   "source": [
    "desc = mobile_description(doc)\n",
    "in_csv(desc,'description.csv')"
   ]
  },
  {
   "cell_type": "code",
   "execution_count": 46,
   "metadata": {},
   "outputs": [],
   "source": [
    "mobile_names = mobile_name(doc)\n",
    "in_csv(mobile_names,'mobile name.csv')"
   ]
  },
  {
   "cell_type": "code",
   "execution_count": 47,
   "metadata": {},
   "outputs": [],
   "source": [
    "all_prices = prices(doc)\n",
    "in_csv(all_prices,'prices.csv')"
   ]
  },
  {
   "cell_type": "code",
   "execution_count": 48,
   "metadata": {},
   "outputs": [],
   "source": [
    "all_percentage = percentage_off(doc)\n",
    "in_csv(all_percentage,'Percentage off')"
   ]
  },
  {
   "cell_type": "code",
   "execution_count": 49,
   "metadata": {},
   "outputs": [],
   "source": [
    "all_ratings = rating(doc)\n",
    "in_csv(all_ratings,'ratings.csv')"
   ]
  },
  {
   "cell_type": "markdown",
   "metadata": {},
   "source": [
    "Now we can check all our csv file `File > Open ` "
   ]
  },
  {
   "cell_type": "markdown",
   "metadata": {},
   "source": [
    "Using the read function to see what's inside our **ratings.csv** file."
   ]
  },
  {
   "cell_type": "code",
   "execution_count": 50,
   "metadata": {
    "code_folding": []
   },
   "outputs": [
    {
     "name": "stdout",
     "output_type": "stream",
     "text": [
      "Ratings\n",
      "4.5\n",
      "4.5\n",
      "4.5\n",
      "4.7\n",
      "4.7\n",
      "4.5\n",
      "4.5\n",
      "4.5\n",
      "4.5\n",
      "4.5\n",
      "4.5\n",
      "4.5\n",
      "4.5\n",
      "4.7\n",
      "4.7\n",
      "4.5\n",
      "4.7\n",
      "4.5\n",
      "4.5\n",
      "4.6\n",
      "4.6\n",
      "4.7\n",
      "4.7\n",
      "4.5\n",
      "\n"
     ]
    }
   ],
   "source": [
    "with open('ratings.csv', 'r') as f:\n",
    "    print(f.read())"
   ]
  },
  {
   "cell_type": "markdown",
   "metadata": {},
   "source": [
    "# Let's extract all the information using single function."
   ]
  },
  {
   "cell_type": "code",
   "execution_count": 51,
   "metadata": {},
   "outputs": [],
   "source": [
    "base_url = 'https://www.flipkart.com/mobiles/pr?sid=tyy%2C4io&otracker=categorytree&p%5B%5D=facets.brand%255B%255D%3DAPPLE&page='\n",
    "\n",
    "def mobile_name(doc_new):\n",
    "    prase = doc_new.find_all('div', class_='_4rR01T')\n",
    "    names = []\n",
    "    for tag in prase:\n",
    "        names.append(tag.text.strip())\n",
    "    return names\n",
    "\n",
    "def prices(doc_new):\n",
    "    price = doc_new.find_all('div',class_='_30jeq3 _1_WHN1')\n",
    "    price_link = []\n",
    "    for i in price:\n",
    "        price_link.append(i.text.strip())\n",
    "    return price_link\n",
    "\n",
    "def percentage_off(doc_new):\n",
    "    off = doc_new.find_all('div',class_='_3Ay6Sb')\n",
    "    off_link =[]\n",
    "    for i in off:\n",
    "        off_link.append({'Percentage off':i.text.strip()})\n",
    "    return off_link  \n",
    "\n",
    "def rating(doc_new):\n",
    "    ratings = doc_new.find_all('div', class_='_3LWZlK')\n",
    "    all_ratings = []\n",
    "    for i in ratings:\n",
    "        all_ratings.append(i.text.strip())\n",
    "    return all_ratings\n",
    "\n",
    "def mobile_description(doc_new):\n",
    "    mobile_description = doc_new.find_all('ul', class_='_1xgFaf')\n",
    "    mobile_info_link=[]\n",
    "    for i in mobile_description:\n",
    "        mobile_info_link.append(i.text.strip())\n",
    "    return mobile_info_link \n",
    "\n",
    "def for_all_pages(page_no):\n",
    "    page_no_url = base_url +  str(page_no)\n",
    "    response = requests.get(page_no_url)\n",
    "    \n",
    "    if response.status_code != 200:\n",
    "        print('Status code:', response.status_code)\n",
    "        raise Exception('Failed to fetch web page ' + page_no_url)\n",
    "        \n",
    "    doc_new =  BeautifulSoup(response.text)\n",
    "    mobile_names_new = mobile_name(doc_new)\n",
    "    all_prices_new = prices(doc_new)\n",
    "    all_ratings_new = rating(doc_new)\n",
    "    first_page_new = mobile_description(doc_new)\n",
    "    data_new = {'Name': mobile_names_new,  #getting all the information in a dictionary\n",
    "       'Prices':all_prices_new,\n",
    "       'ratings':all_ratings_new,\n",
    "       'Description':first_page_new}\n",
    "    \n",
    "    return pd.DataFrame(data_new)   #return directly a dataframe.\n",
    "\n",
    "    \n",
    "    "
   ]
  },
  {
   "cell_type": "markdown",
   "metadata": {},
   "source": [
    "As you can notice using only one function **for_all_pages** we can extract our information in **DataFrame** of all the pages we required."
   ]
  },
  {
   "cell_type": "code",
   "execution_count": 52,
   "metadata": {},
   "outputs": [
    {
     "data": {
      "text/html": [
       "<div>\n",
       "<style scoped>\n",
       "    .dataframe tbody tr th:only-of-type {\n",
       "        vertical-align: middle;\n",
       "    }\n",
       "\n",
       "    .dataframe tbody tr th {\n",
       "        vertical-align: top;\n",
       "    }\n",
       "\n",
       "    .dataframe thead th {\n",
       "        text-align: right;\n",
       "    }\n",
       "</style>\n",
       "<table border=\"1\" class=\"dataframe\">\n",
       "  <thead>\n",
       "    <tr style=\"text-align: right;\">\n",
       "      <th></th>\n",
       "      <th>Name</th>\n",
       "      <th>Prices</th>\n",
       "      <th>ratings</th>\n",
       "      <th>Description</th>\n",
       "    </tr>\n",
       "  </thead>\n",
       "  <tbody>\n",
       "    <tr>\n",
       "      <th>0</th>\n",
       "      <td>APPLE iPhone SE (Black, 64 GB)</td>\n",
       "      <td>₹27,999</td>\n",
       "      <td>4.5</td>\n",
       "      <td>64 GB ROM11.94 cm (4.7 inch) Retina HD Display...</td>\n",
       "    </tr>\n",
       "    <tr>\n",
       "      <th>1</th>\n",
       "      <td>APPLE iPhone SE (White, 64 GB)</td>\n",
       "      <td>₹27,999</td>\n",
       "      <td>4.5</td>\n",
       "      <td>64 GB ROM11.94 cm (4.7 inch) Retina HD Display...</td>\n",
       "    </tr>\n",
       "    <tr>\n",
       "      <th>2</th>\n",
       "      <td>APPLE iPhone 12 (Blue, 128 GB)</td>\n",
       "      <td>₹61,999</td>\n",
       "      <td>4.7</td>\n",
       "      <td>128 GB ROM15.49 cm (6.1 inch) Super Retina XDR...</td>\n",
       "    </tr>\n",
       "    <tr>\n",
       "      <th>3</th>\n",
       "      <td>APPLE iPhone SE (Red, 64 GB)</td>\n",
       "      <td>₹27,999</td>\n",
       "      <td>4.5</td>\n",
       "      <td>64 GB ROM11.94 cm (4.7 inch) Retina HD Display...</td>\n",
       "    </tr>\n",
       "    <tr>\n",
       "      <th>4</th>\n",
       "      <td>APPLE iPhone 12 (Black, 64 GB)</td>\n",
       "      <td>₹55,999</td>\n",
       "      <td>4.7</td>\n",
       "      <td>64 GB ROM15.49 cm (6.1 inch) Super Retina XDR ...</td>\n",
       "    </tr>\n",
       "    <tr>\n",
       "      <th>5</th>\n",
       "      <td>APPLE iPhone 12 Mini (Blue, 128 GB)</td>\n",
       "      <td>₹49,999</td>\n",
       "      <td>4.5</td>\n",
       "      <td>128 GB ROM13.72 cm (5.4 inch) Super Retina XDR...</td>\n",
       "    </tr>\n",
       "    <tr>\n",
       "      <th>6</th>\n",
       "      <td>APPLE iPhone 12 Mini (Red, 128 GB)</td>\n",
       "      <td>₹49,999</td>\n",
       "      <td>4.5</td>\n",
       "      <td>128 GB ROM13.72 cm (5.4 inch) Super Retina XDR...</td>\n",
       "    </tr>\n",
       "    <tr>\n",
       "      <th>7</th>\n",
       "      <td>APPLE iPhone 12 Mini (Black, 64 GB)</td>\n",
       "      <td>₹44,999</td>\n",
       "      <td>4.5</td>\n",
       "      <td>64 GB ROM13.72 cm (5.4 inch) Super Retina XDR ...</td>\n",
       "    </tr>\n",
       "    <tr>\n",
       "      <th>8</th>\n",
       "      <td>APPLE iPhone 12 Mini (White, 64 GB)</td>\n",
       "      <td>₹44,999</td>\n",
       "      <td>4.5</td>\n",
       "      <td>64 GB ROM13.72 cm (5.4 inch) Super Retina XDR ...</td>\n",
       "    </tr>\n",
       "    <tr>\n",
       "      <th>9</th>\n",
       "      <td>APPLE iPhone SE (White, 128 GB)</td>\n",
       "      <td>₹32,999</td>\n",
       "      <td>4.5</td>\n",
       "      <td>128 GB ROM11.94 cm (4.7 inch) Retina HD Displa...</td>\n",
       "    </tr>\n",
       "    <tr>\n",
       "      <th>10</th>\n",
       "      <td>APPLE iPhone SE (Black, 128 GB)</td>\n",
       "      <td>₹32,999</td>\n",
       "      <td>4.5</td>\n",
       "      <td>128 GB ROM11.94 cm (4.7 inch) Retina HD Displa...</td>\n",
       "    </tr>\n",
       "    <tr>\n",
       "      <th>11</th>\n",
       "      <td>APPLE iPhone SE (Red, 128 GB)</td>\n",
       "      <td>₹32,999</td>\n",
       "      <td>4.5</td>\n",
       "      <td>128 GB ROM11.94 cm (4.7 inch) Retina HD Displa...</td>\n",
       "    </tr>\n",
       "    <tr>\n",
       "      <th>12</th>\n",
       "      <td>APPLE iPhone 12 Mini (Blue, 64 GB)</td>\n",
       "      <td>₹44,999</td>\n",
       "      <td>4.5</td>\n",
       "      <td>64 GB ROM13.72 cm (5.4 inch) Super Retina XDR ...</td>\n",
       "    </tr>\n",
       "    <tr>\n",
       "      <th>13</th>\n",
       "      <td>APPLE iPhone 12 (Red, 128 GB)</td>\n",
       "      <td>₹61,999</td>\n",
       "      <td>4.7</td>\n",
       "      <td>128 GB ROM15.49 cm (6.1 inch) Super Retina XDR...</td>\n",
       "    </tr>\n",
       "    <tr>\n",
       "      <th>14</th>\n",
       "      <td>APPLE iPhone 12 (Red, 64 GB)</td>\n",
       "      <td>₹55,999</td>\n",
       "      <td>4.7</td>\n",
       "      <td>64 GB ROM15.49 cm (6.1 inch) Super Retina XDR ...</td>\n",
       "    </tr>\n",
       "    <tr>\n",
       "      <th>15</th>\n",
       "      <td>APPLE iPhone SE (Red, 256 GB)</td>\n",
       "      <td>₹42,999</td>\n",
       "      <td>4.5</td>\n",
       "      <td>256 GB ROM11.94 cm (4.7 inch) Retina HD Displa...</td>\n",
       "    </tr>\n",
       "    <tr>\n",
       "      <th>16</th>\n",
       "      <td>APPLE iPhone 12 Mini (White, 256 GB)</td>\n",
       "      <td>₹59,999</td>\n",
       "      <td>4.5</td>\n",
       "      <td>256 GB ROM13.72 cm (5.4 inch) Super Retina XDR...</td>\n",
       "    </tr>\n",
       "    <tr>\n",
       "      <th>17</th>\n",
       "      <td>APPLE iPhone 13 Pro Max (Graphite, 512 GB)</td>\n",
       "      <td>₹1,59,900</td>\n",
       "      <td>4.7</td>\n",
       "      <td>512 GB ROM17.02 cm (6.7 inch) Super Retina XDR...</td>\n",
       "    </tr>\n",
       "    <tr>\n",
       "      <th>18</th>\n",
       "      <td>APPLE iPhone 12 Mini (Black, 256 GB)</td>\n",
       "      <td>₹59,999</td>\n",
       "      <td>4.5</td>\n",
       "      <td>256 GB ROM13.72 cm (5.4 inch) Super Retina XDR...</td>\n",
       "    </tr>\n",
       "    <tr>\n",
       "      <th>19</th>\n",
       "      <td>APPLE iPhone 12 (Black, 128 GB)</td>\n",
       "      <td>₹61,999</td>\n",
       "      <td>4.7</td>\n",
       "      <td>128 GB ROM15.49 cm (6.1 inch) Super Retina XDR...</td>\n",
       "    </tr>\n",
       "    <tr>\n",
       "      <th>20</th>\n",
       "      <td>APPLE iPhone 11 (Black, 64 GB)</td>\n",
       "      <td>₹49,900</td>\n",
       "      <td>4.6</td>\n",
       "      <td>64 GB ROM15.49 cm (6.1 inch) Liquid Retina HD ...</td>\n",
       "    </tr>\n",
       "    <tr>\n",
       "      <th>21</th>\n",
       "      <td>APPLE iPhone 11 (Yellow, 64 GB)</td>\n",
       "      <td>₹49,900</td>\n",
       "      <td>4.6</td>\n",
       "      <td>64 GB ROM15.49 cm (6.1 inch) Liquid Retina HD ...</td>\n",
       "    </tr>\n",
       "    <tr>\n",
       "      <th>22</th>\n",
       "      <td>APPLE iPhone 13 Pro Max (Graphite, 256 GB)</td>\n",
       "      <td>₹1,39,900</td>\n",
       "      <td>4.7</td>\n",
       "      <td>256 GB ROM17.02 cm (6.7 inch) Super Retina XDR...</td>\n",
       "    </tr>\n",
       "    <tr>\n",
       "      <th>23</th>\n",
       "      <td>APPLE iPhone 12 Mini (Blue, 256 GB)</td>\n",
       "      <td>₹59,999</td>\n",
       "      <td>4.5</td>\n",
       "      <td>256 GB ROM13.72 cm (5.4 inch) Super Retina XDR...</td>\n",
       "    </tr>\n",
       "  </tbody>\n",
       "</table>\n",
       "</div>"
      ],
      "text/plain": [
       "                                          Name     Prices ratings  \\\n",
       "0               APPLE iPhone SE (Black, 64 GB)    ₹27,999     4.5   \n",
       "1               APPLE iPhone SE (White, 64 GB)    ₹27,999     4.5   \n",
       "2               APPLE iPhone 12 (Blue, 128 GB)    ₹61,999     4.7   \n",
       "3                 APPLE iPhone SE (Red, 64 GB)    ₹27,999     4.5   \n",
       "4               APPLE iPhone 12 (Black, 64 GB)    ₹55,999     4.7   \n",
       "5          APPLE iPhone 12 Mini (Blue, 128 GB)    ₹49,999     4.5   \n",
       "6           APPLE iPhone 12 Mini (Red, 128 GB)    ₹49,999     4.5   \n",
       "7          APPLE iPhone 12 Mini (Black, 64 GB)    ₹44,999     4.5   \n",
       "8          APPLE iPhone 12 Mini (White, 64 GB)    ₹44,999     4.5   \n",
       "9              APPLE iPhone SE (White, 128 GB)    ₹32,999     4.5   \n",
       "10             APPLE iPhone SE (Black, 128 GB)    ₹32,999     4.5   \n",
       "11               APPLE iPhone SE (Red, 128 GB)    ₹32,999     4.5   \n",
       "12          APPLE iPhone 12 Mini (Blue, 64 GB)    ₹44,999     4.5   \n",
       "13               APPLE iPhone 12 (Red, 128 GB)    ₹61,999     4.7   \n",
       "14                APPLE iPhone 12 (Red, 64 GB)    ₹55,999     4.7   \n",
       "15               APPLE iPhone SE (Red, 256 GB)    ₹42,999     4.5   \n",
       "16        APPLE iPhone 12 Mini (White, 256 GB)    ₹59,999     4.5   \n",
       "17  APPLE iPhone 13 Pro Max (Graphite, 512 GB)  ₹1,59,900     4.7   \n",
       "18        APPLE iPhone 12 Mini (Black, 256 GB)    ₹59,999     4.5   \n",
       "19             APPLE iPhone 12 (Black, 128 GB)    ₹61,999     4.7   \n",
       "20              APPLE iPhone 11 (Black, 64 GB)    ₹49,900     4.6   \n",
       "21             APPLE iPhone 11 (Yellow, 64 GB)    ₹49,900     4.6   \n",
       "22  APPLE iPhone 13 Pro Max (Graphite, 256 GB)  ₹1,39,900     4.7   \n",
       "23         APPLE iPhone 12 Mini (Blue, 256 GB)    ₹59,999     4.5   \n",
       "\n",
       "                                          Description  \n",
       "0   64 GB ROM11.94 cm (4.7 inch) Retina HD Display...  \n",
       "1   64 GB ROM11.94 cm (4.7 inch) Retina HD Display...  \n",
       "2   128 GB ROM15.49 cm (6.1 inch) Super Retina XDR...  \n",
       "3   64 GB ROM11.94 cm (4.7 inch) Retina HD Display...  \n",
       "4   64 GB ROM15.49 cm (6.1 inch) Super Retina XDR ...  \n",
       "5   128 GB ROM13.72 cm (5.4 inch) Super Retina XDR...  \n",
       "6   128 GB ROM13.72 cm (5.4 inch) Super Retina XDR...  \n",
       "7   64 GB ROM13.72 cm (5.4 inch) Super Retina XDR ...  \n",
       "8   64 GB ROM13.72 cm (5.4 inch) Super Retina XDR ...  \n",
       "9   128 GB ROM11.94 cm (4.7 inch) Retina HD Displa...  \n",
       "10  128 GB ROM11.94 cm (4.7 inch) Retina HD Displa...  \n",
       "11  128 GB ROM11.94 cm (4.7 inch) Retina HD Displa...  \n",
       "12  64 GB ROM13.72 cm (5.4 inch) Super Retina XDR ...  \n",
       "13  128 GB ROM15.49 cm (6.1 inch) Super Retina XDR...  \n",
       "14  64 GB ROM15.49 cm (6.1 inch) Super Retina XDR ...  \n",
       "15  256 GB ROM11.94 cm (4.7 inch) Retina HD Displa...  \n",
       "16  256 GB ROM13.72 cm (5.4 inch) Super Retina XDR...  \n",
       "17  512 GB ROM17.02 cm (6.7 inch) Super Retina XDR...  \n",
       "18  256 GB ROM13.72 cm (5.4 inch) Super Retina XDR...  \n",
       "19  128 GB ROM15.49 cm (6.1 inch) Super Retina XDR...  \n",
       "20  64 GB ROM15.49 cm (6.1 inch) Liquid Retina HD ...  \n",
       "21  64 GB ROM15.49 cm (6.1 inch) Liquid Retina HD ...  \n",
       "22  256 GB ROM17.02 cm (6.7 inch) Super Retina XDR...  \n",
       "23  256 GB ROM13.72 cm (5.4 inch) Super Retina XDR...  "
      ]
     },
     "execution_count": 52,
     "metadata": {},
     "output_type": "execute_result"
    }
   ],
   "source": [
    "#Note- Run it twice if shows any error\n",
    "for_all_pages(1) #information about first page."
   ]
  },
  {
   "cell_type": "markdown",
   "metadata": {},
   "source": [
    "### Adding dataframes\n",
    "Now we will create a helper function which will add all the information of **all the pages(num_of_page)** pages using **pd.concat()**."
   ]
  },
  {
   "cell_type": "code",
   "execution_count": 53,
   "metadata": {},
   "outputs": [],
   "source": [
    "def all_info(num_of_page):\n",
    "    # define an empty list\n",
    "    all_df = []\n",
    "    # Run a loop from 1 to n+1\n",
    "    for i in range(1, num_of_page+1):\n",
    "        all_df.append(for_all_pages(page_no=i))\n",
    "        # Outside the loop variable you can directly merge the df and        return it in the same line.\n",
    "    return pd.concat(all_df)"
   ]
  },
  {
   "cell_type": "code",
   "execution_count": 54,
   "metadata": {},
   "outputs": [],
   "source": [
    "final = all_info(9)"
   ]
  },
  {
   "cell_type": "markdown",
   "metadata": {},
   "source": [
    "**final** is our dataframe of *216 rows* and *4 columns* of the required information about **Apple phones** present in the *first 9 pages* at **flipkart**."
   ]
  },
  {
   "cell_type": "markdown",
   "metadata": {},
   "source": [
    "### Final csv file"
   ]
  },
  {
   "cell_type": "markdown",
   "metadata": {},
   "source": [
    "> Finally we can "
   ]
  },
  {
   "cell_type": "code",
   "execution_count": 55,
   "metadata": {},
   "outputs": [],
   "source": [
    "final.to_csv('final info.csv',index=False)"
   ]
  },
  {
   "cell_type": "markdown",
   "metadata": {},
   "source": [
    "# Conclusion\n",
    "\n",
    "- We successfuly got a our final result and covered interesting features that will be helpful for others web scraping project. \n",
    "- We covered `Python`,`requests` and `BeautifulSoup` libraries and there uses in web scraping. \n",
    "- Now we have exctracted all the information in a csv file it will helpuful to see the information about Iphone which we might bought in future."
   ]
  },
  {
   "cell_type": "markdown",
   "metadata": {},
   "source": [
    "# Future work\n",
    "\n",
    "- Will try to scrape different football websites to get a dataset on the basis of speed, total matches played, total trophies won and so on."
   ]
  },
  {
   "cell_type": "markdown",
   "metadata": {},
   "source": [
    "### References\n",
    "\n",
    "Here are some link to learn more about used library:\n",
    "- [request](https://docs.python-requests.org/projects/requests-html/en/latest/)\n",
    "- [Beautiful Soup](https://www.crummy.com/software/BeautifulSoup/bs4/doc/) \n",
    "- [html source code](https://www.flipkart.com/mobiles/pr?sid=tyy%2C4io&otracker=categorytree&p%5B%5D=facets.brand%255B%255D%3DAPPLE)\n",
    "- [pandas](https://pandas.pydata.org/docs/reference/api/pandas.DataFrame.html)\n",
    "\n",
    "\n",
    "Here are some tutorial on web scraping:\n",
    "\n",
    "- [Web scraping project from scratch](https://www.youtube.com/watch?v=RKsLLG-bzEY)\n",
    "- [web scraping with yahoo finance](https://towardsdatascience.com/web-scraping-yahoo-finance-477fe3daa852)\n",
    "- [web scraping at code with harry](https://www.youtube.com/watch?v=uufDGjTuq34)"
   ]
  },
  {
   "cell_type": "code",
   "execution_count": 58,
   "metadata": {},
   "outputs": [
    {
     "data": {
      "application/javascript": [
       "window.require && require([\"base/js/namespace\"],function(Jupyter){Jupyter.notebook.save_checkpoint()})"
      ],
      "text/plain": [
       "<IPython.core.display.Javascript object>"
      ]
     },
     "metadata": {},
     "output_type": "display_data"
    },
    {
     "name": "stdout",
     "output_type": "stream",
     "text": [
      "[jovian] Updating notebook \"yashchamp96/project-web-scraping\" on https://jovian.ai\u001b[0m\n",
      "[jovian] Uploading additional files...\u001b[0m\n",
      "[jovian] Attaching records (metrics, hyperparameters, dataset etc.)\u001b[0m\n",
      "[jovian] Committed successfully! https://jovian.ai/yashchamp96/project-web-scraping\u001b[0m\n"
     ]
    },
    {
     "data": {
      "text/plain": [
       "'https://jovian.ai/yashchamp96/project-web-scraping'"
      ]
     },
     "execution_count": 58,
     "metadata": {},
     "output_type": "execute_result"
    }
   ],
   "source": [
    "jovian.commit(files=[\"final info.csv\"])"
   ]
  },
  {
   "cell_type": "code",
   "execution_count": null,
   "metadata": {},
   "outputs": [],
   "source": []
  }
 ],
 "metadata": {
  "kernelspec": {
   "display_name": "Python 3 (ipykernel)",
   "language": "python",
   "name": "python3"
  },
  "language_info": {
   "codemirror_mode": {
    "name": "ipython",
    "version": 3
   },
   "file_extension": ".py",
   "mimetype": "text/x-python",
   "name": "python",
   "nbconvert_exporter": "python",
   "pygments_lexer": "ipython3",
   "version": "3.9.6"
  }
 },
 "nbformat": 4,
 "nbformat_minor": 2
}
